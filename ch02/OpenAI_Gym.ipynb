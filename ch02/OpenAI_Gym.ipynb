{
 "cells": [
  {
   "cell_type": "markdown",
   "id": "0e4f8b2b",
   "metadata": {},
   "source": [
    "# OpenAI Gym"
   ]
  },
  {
   "cell_type": "markdown",
   "id": "82a29760",
   "metadata": {},
   "source": [
    "### Random environment"
   ]
  },
  {
   "cell_type": "code",
   "execution_count": 1,
   "id": "a32f4712",
   "metadata": {},
   "outputs": [],
   "source": [
    "import random\n",
    "from typing import List"
   ]
  },
  {
   "cell_type": "code",
   "execution_count": 2,
   "id": "c098745e",
   "metadata": {},
   "outputs": [],
   "source": [
    "class Environment: ## random environment that outputs random values\n",
    "    def __init__(self):\n",
    "        self.steps_left = 10\n",
    "        pass\n",
    "    \n",
    "    def get_observation(self) -> List[float]:\n",
    "        return [0.0, 0.0, 0.0]\n",
    "    \n",
    "    def get_actions(self) -> List[int]: # list of actions the agent can take\n",
    "        return [0,1]\n",
    "    \n",
    "    def is_done(self) -> bool:\n",
    "        return self.steps_left == 0\n",
    "    \n",
    "    def action(self, action: int) -> float: # similar to step()\n",
    "        if self.is_done():\n",
    "            raise Exception(\"Game is over\") \n",
    "        self.steps_left -= 1\n",
    "        return random.random()"
   ]
  },
  {
   "cell_type": "code",
   "execution_count": 3,
   "id": "6623e8e1",
   "metadata": {},
   "outputs": [],
   "source": [
    "class Agent:\n",
    "    def __init__(self):\n",
    "        self.total_reward = 0.0\n",
    "        pass\n",
    "    \n",
    "    def step(self, env: Environment):\n",
    "        current_obs = env.get_observation()\n",
    "        actions = env.get_actions()\n",
    "        \n",
    "        reward = env.action(random.choice(actions))\n",
    "        self.total_reward += reward"
   ]
  },
  {
   "cell_type": "code",
   "execution_count": 4,
   "id": "54d4666a",
   "metadata": {},
   "outputs": [
    {
     "name": "stdout",
     "output_type": "stream",
     "text": [
      "Total reward got: 5.4977\n"
     ]
    }
   ],
   "source": [
    "env = Environment()\n",
    "agent = Agent()\n",
    "while not env.is_done():\n",
    "    agent.step(env)\n",
    "    \n",
    "print(\"Total reward got: %.4f\" % agent.total_reward)"
   ]
  },
  {
   "cell_type": "markdown",
   "id": "edb73335",
   "metadata": {},
   "source": [
    "## OpenAI Gym API"
   ]
  },
  {
   "cell_type": "code",
   "execution_count": 5,
   "id": "0e56448a-449e-4828-a3a0-5f173db2cc25",
   "metadata": {},
   "outputs": [],
   "source": [
    "import gym"
   ]
  },
  {
   "cell_type": "code",
   "execution_count": 6,
   "id": "87f7db9e-2e2a-48df-9a62-4ef87d48bdc9",
   "metadata": {},
   "outputs": [],
   "source": [
    "e = gym.make('CartPole-v0')"
   ]
  },
  {
   "cell_type": "code",
   "execution_count": 7,
   "id": "4ebad2e7-be69-4dcc-bc39-852f601fb7f5",
   "metadata": {},
   "outputs": [
    {
     "name": "stdout",
     "output_type": "stream",
     "text": [
      "[-0.04376711 -0.02621327 -0.02260973  0.02032406]\n"
     ]
    }
   ],
   "source": [
    "obs = e.reset()\n",
    "print(obs)"
   ]
  },
  {
   "cell_type": "code",
   "execution_count": 8,
   "id": "3fc94288-c8a0-4121-93a0-7a8bc36b66f2",
   "metadata": {},
   "outputs": [],
   "source": [
    "import pyvirtualdisplay, os\n",
    "display = pyvirtualdisplay.Display(visible=0, size=(1400, 900)).start()"
   ]
  },
  {
   "cell_type": "code",
   "execution_count": 9,
   "id": "b836e5d1-ba53-468d-acee-edd5598fc5fe",
   "metadata": {},
   "outputs": [],
   "source": [
    "frame = e.render(\"rgb_array\")"
   ]
  },
  {
   "cell_type": "code",
   "execution_count": 10,
   "id": "774581cf-8028-4389-85f9-a1b890c3bc13",
   "metadata": {},
   "outputs": [
    {
     "data": {
      "text/plain": [
       "<matplotlib.image.AxesImage at 0x7f9c32f0b550>"
      ]
     },
     "execution_count": 10,
     "metadata": {},
     "output_type": "execute_result"
    },
    {
     "data": {
      "image/png": "[encoded data removed]",
      "text/plain": [
       "<Figure size 640x480 with 1 Axes>"
      ]
     },
     "metadata": {},
     "output_type": "display_data"
    }
   ],
   "source": [
    "import matplotlib.pyplot as plt\n",
    "plt.imshow(frame)"
   ]
  },
  {
   "cell_type": "code",
   "execution_count": 11,
   "id": "b317ada8-1d4b-416c-bfd6-7af0ac151d27",
   "metadata": {},
   "outputs": [
    {
     "data": {
      "text/plain": [
       "Discrete(2)"
      ]
     },
     "execution_count": 11,
     "metadata": {},
     "output_type": "execute_result"
    }
   ],
   "source": [
    "e.action_space"
   ]
  },
  {
   "cell_type": "code",
   "execution_count": 12,
   "id": "d826b453-e329-4b2f-b30f-04be5c9f79e9",
   "metadata": {},
   "outputs": [
    {
     "data": {
      "text/plain": [
       "Box(-3.4028234663852886e+38, 3.4028234663852886e+38, (4,), float32)"
      ]
     },
     "execution_count": 12,
     "metadata": {},
     "output_type": "execute_result"
    }
   ],
   "source": [
    "e.observation_space"
   ]
  },
  {
   "cell_type": "code",
   "execution_count": 13,
   "id": "56a4a933-c727-4c4f-ae1c-a8e33090ad7c",
   "metadata": {},
   "outputs": [
    {
     "data": {
      "text/plain": [
       "(array([-0.04429137, -0.2210038 , -0.02220325,  0.30578848]), 1.0, False, {})"
      ]
     },
     "execution_count": 13,
     "metadata": {},
     "output_type": "execute_result"
    }
   ],
   "source": [
    "e.step(0)"
   ]
  },
  {
   "cell_type": "code",
   "execution_count": 14,
   "id": "8ceec02d-ef25-485a-8563-749e2f0a51c6",
   "metadata": {},
   "outputs": [
    {
     "data": {
      "text/plain": [
       "0"
      ]
     },
     "execution_count": 14,
     "metadata": {},
     "output_type": "execute_result"
    }
   ],
   "source": [
    "e.action_space.sample()"
   ]
  },
  {
   "cell_type": "code",
   "execution_count": 15,
   "id": "20e207e8-6bf3-46ed-9f15-9093f7034567",
   "metadata": {},
   "outputs": [
    {
     "data": {
      "text/plain": [
       "array([-3.9080849e+00, -9.4888677e+37,  3.9955205e-01,  3.3327583e+38],\n",
       "      dtype=float32)"
      ]
     },
     "execution_count": 15,
     "metadata": {},
     "output_type": "execute_result"
    }
   ],
   "source": [
    "e.observation_space.sample()"
   ]
  },
  {
   "cell_type": "markdown",
   "id": "6a1c6533-a739-41b7-9e30-34cdd49cc7a5",
   "metadata": {},
   "source": [
    "## Random CartPole agent"
   ]
  },
  {
   "cell_type": "code",
   "execution_count": 16,
   "id": "5e146e8d-492c-4547-b31d-94fad873ace8",
   "metadata": {},
   "outputs": [],
   "source": [
    "env = gym.make(\"CartPole-v0\")\n",
    "total_reward = 0.0\n",
    "total_steps = 0\n",
    "obs = env.reset()"
   ]
  },
  {
   "cell_type": "code",
   "execution_count": 17,
   "id": "d15d801f-71a1-4d28-b0e1-bb0ece640544",
   "metadata": {},
   "outputs": [],
   "source": [
    "while(True):\n",
    "    action = env.action_space.sample()\n",
    "    obs, reward, done, _ = env.step(action)\n",
    "    total_reward += reward\n",
    "    total_steps += 1\n",
    "    if done:\n",
    "        break"
   ]
  },
  {
   "cell_type": "code",
   "execution_count": 18,
   "id": "98df6b04-ece9-4915-a357-8525075dd73e",
   "metadata": {},
   "outputs": [
    {
     "name": "stdout",
     "output_type": "stream",
     "text": [
      "Episode done in 17 steps, total reward 17.00\n"
     ]
    }
   ],
   "source": [
    "print(\"Episode done in %d steps, total reward %.2f\" %(total_steps, total_reward))"
   ]
  },
  {
   "cell_type": "markdown",
   "id": "a8cdad06-41cd-4beb-85e6-e1caf687bf17",
   "metadata": {},
   "source": [
    "## Wrapper"
   ]
  },
  {
   "cell_type": "code",
   "execution_count": 19,
   "id": "22103e22-6823-4dac-bf5f-1c20a1641944",
   "metadata": {},
   "outputs": [],
   "source": [
    "from typing import TypeVar\n",
    "import random"
   ]
  },
  {
   "cell_type": "code",
   "execution_count": 20,
   "id": "ba06bc14-081a-43c3-8219-7fee54580b2a",
   "metadata": {},
   "outputs": [],
   "source": [
    "Action = TypeVar(\"Action\")\n",
    "\n",
    "class RandomActionWrapper(gym.ActionWrapper):\n",
    "    def __init__(self, env, epsilon=0.1):\n",
    "        super(RandomActionWrapper, self).__init__(env) # pass env to wrapper\n",
    "        self.epsilon = epsilon\n",
    "        pass\n",
    "    \n",
    "    \n",
    "    def action(self, action: Action) -> Action:\n",
    "        if random.random() < self.epsilon:\n",
    "            print(\"Random!\")\n",
    "            return self.env.action_space.sample()\n",
    "        return action"
   ]
  },
  {
   "cell_type": "code",
   "execution_count": 21,
   "id": "c4413977-8109-49a5-87a0-7bbf1fee3de8",
   "metadata": {},
   "outputs": [
    {
     "name": "stdout",
     "output_type": "stream",
     "text": [
      "Random!\n",
      "Total reward 9.0\n"
     ]
    }
   ],
   "source": [
    "env = RandomActionWrapper(gym.make(\"CartPole-v0\"), epsilon=0.2) # this becomes a env!\n",
    "\n",
    "obs = env.reset()\n",
    "total_reward = 0.0\n",
    "\n",
    "while(True):\n",
    "    obs, reward, done, _ = env.step(0)\n",
    "    total_reward += reward\n",
    "    if done:\n",
    "        break\n",
    "        \n",
    "print(\"Total reward\", total_reward)"
   ]
  },
  {
   "cell_type": "markdown",
   "id": "d54475e3-2efd-42d0-95c1-92c41ec2776e",
   "metadata": {},
   "source": [
    "## Monitor"
   ]
  },
  {
   "cell_type": "code",
   "execution_count": 22,
   "id": "1a479cfd-b3a8-4ecc-8311-8c8ed0dbd3b1",
   "metadata": {},
   "outputs": [
    {
     "name": "stdout",
     "output_type": "stream",
     "text": [
      "Random!\n",
      "Random!\n",
      "Random!\n",
      "Random!\n",
      "Random!\n",
      "Random!\n",
      "Random!\n",
      "Random!\n",
      "Random!\n",
      "Random!\n",
      "Random!\n",
      "Random!\n",
      "Random!\n",
      "Random!\n",
      "Random!\n",
      "Random!\n",
      "Random!\n",
      "Random!\n",
      "Random!\n",
      "Random!\n",
      "Random!\n",
      "Random!\n",
      "Total reward 24.0\n"
     ]
    }
   ],
   "source": [
    "env = RandomActionWrapper(gym.make(\"CartPole-v0\"), epsilon=0.9) # this becomes a env!\n",
    "\n",
    "env = gym.wrappers.Monitor(env, \"recording\")\n",
    "\n",
    "obs = env.reset()\n",
    "total_reward = 0.0\n",
    "\n",
    "while(True):\n",
    "    obs, reward, done, _ = env.step(0)\n",
    "    total_reward += reward\n",
    "    if done:\n",
    "        break\n",
    "        \n",
    "print(\"Total reward\", total_reward)"
   ]
  },
  {
   "cell_type": "code",
   "execution_count": null,
   "id": "921653b8-9886-4bf2-ba47-fc0f03c48629",
   "metadata": {},
   "outputs": [],
   "source": []
  }
 ],
 "metadata": {
  "kernelspec": {
   "display_name": "Python [conda env:DRLH]",
   "language": "python",
   "name": "conda-env-DRLH-py"
  },
  "language_info": {
   "codemirror_mode": {
    "name": "ipython",
    "version": 3
   },
   "file_extension": ".py",
   "mimetype": "text/x-python",
   "name": "python",
   "nbconvert_exporter": "python",
   "pygments_lexer": "ipython3",
   "version": "3.7.0"
  }
 },
 "nbformat": 4,
 "nbformat_minor": 5
}
