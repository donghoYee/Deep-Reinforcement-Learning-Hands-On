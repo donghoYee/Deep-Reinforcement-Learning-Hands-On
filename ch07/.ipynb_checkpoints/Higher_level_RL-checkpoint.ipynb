{
 "cells": [
  {
   "cell_type": "markdown",
   "id": "b8181f58-73f0-4230-a5e5-cdc3d7ba5cae",
   "metadata": {},
   "source": [
    "# Higher-Level RL Libraries"
   ]
  },
  {
   "cell_type": "markdown",
   "id": "3f15d830-35cc-4420-9b20-cb5272b8e6ab",
   "metadata": {},
   "source": [
    "* Action selectors"
   ]
  },
  {
   "cell_type": "code",
   "execution_count": 16,
   "id": "92674acb-c1de-46b6-a3ea-6fef7b29515d",
   "metadata": {},
   "outputs": [
    {
     "name": "stdout",
     "output_type": "stream",
     "text": [
      "[2 0]\n"
     ]
    }
   ],
   "source": [
    "import numpy as np\n",
    "import ptan\n",
    "\n",
    "q_vals = np.array([[1, 2, 3], [1, -1, 0]])\n",
    "selector = ptan.actions.ArgmaxActionSelector()\n",
    "print(selector(q_vals))"
   ]
  },
  {
   "cell_type": "code",
   "execution_count": 17,
   "id": "265dfd03-d8d6-4358-b6be-f7fabdf39258",
   "metadata": {},
   "outputs": [
    {
     "name": "stdout",
     "output_type": "stream",
     "text": [
      "[2 0]\n"
     ]
    }
   ],
   "source": [
    "selector = ptan.actions.EpsilonGreedyActionSelector(epsilon=0.0) # same as argmax?\n",
    "print(selector(q_vals))"
   ]
  },
  {
   "cell_type": "code",
   "execution_count": 18,
   "id": "9b255bf8-7852-4c36-adb5-c756fc1f93ea",
   "metadata": {},
   "outputs": [
    {
     "name": "stdout",
     "output_type": "stream",
     "text": [
      "[0 0]\n"
     ]
    }
   ],
   "source": [
    "selector = ptan.actions.EpsilonGreedyActionSelector(epsilon=1.0)\n",
    "print(selector(q_vals))"
   ]
  },
  {
   "cell_type": "code",
   "execution_count": 19,
   "id": "2e8d23a6-15d0-4269-996a-bddbecfcdb9c",
   "metadata": {},
   "outputs": [
    {
     "name": "stdout",
     "output_type": "stream",
     "text": [
      "[0 2 0]\n",
      "[1 2 1]\n",
      "[2 2 1]\n",
      "[2 2 0]\n",
      "[2 2 1]\n",
      "[0 2 1]\n",
      "[2 2 1]\n",
      "[2 2 0]\n",
      "[0 2 0]\n",
      "[1 2 0]\n"
     ]
    }
   ],
   "source": [
    "selector = ptan.actions.ProbabilityActionSelector()\n",
    "for _ in range(10):\n",
    "    acts = selector(np.array([\n",
    "        [0.2, 0.3, 0.5],\n",
    "        [0.0, 0.0, 1.0],\n",
    "        [0.5, 0.5, 0.0]]))\n",
    "    print(acts)"
   ]
  },
  {
   "cell_type": "markdown",
   "id": "3e824805-52e8-484e-a900-f86ac2898fa3",
   "metadata": {},
   "source": [
    "* DQNAgent"
   ]
  },
  {
   "cell_type": "code",
   "execution_count": 20,
   "id": "b0ea81ad-c7f0-42b9-93fd-4308255f1afa",
   "metadata": {},
   "outputs": [],
   "source": [
    "import torch\n",
    "import torch.nn as nn\n",
    "\n",
    "class DQNNet(nn.Module):\n",
    "    def __init__(self, actions: int):\n",
    "        super(DQNNet, self).__init__()\n",
    "        self.actions = actions\n",
    "        \n",
    "    def forward(self, x):\n",
    "        return torch.eye(x.size()[0], self.actions)"
   ]
  },
  {
   "cell_type": "code",
   "execution_count": 21,
   "id": "3c1ce9ad-555a-4147-956c-fc949d32890a",
   "metadata": {},
   "outputs": [
    {
     "data": {
      "text/plain": [
       "tensor([[1., 0., 0.],\n",
       "        [0., 1., 0.]])"
      ]
     },
     "execution_count": 21,
     "metadata": {},
     "output_type": "execute_result"
    }
   ],
   "source": [
    "net = DQNNet(actions=3)\n",
    "net(torch.zeros(2, 10))"
   ]
  },
  {
   "cell_type": "code",
   "execution_count": 22,
   "id": "b4fc73d1-83f1-4f07-88e7-7d01dfe49d01",
   "metadata": {},
   "outputs": [
    {
     "data": {
      "text/plain": [
       "(array([0, 1]), [None, None])"
      ]
     },
     "execution_count": 22,
     "metadata": {},
     "output_type": "execute_result"
    }
   ],
   "source": [
    "# simple argmax policy\n",
    "selector = ptan.actions.ArgmaxActionSelector()\n",
    "agent = ptan.agent.DQNAgent(dqn_model=net, action_selector=selector) # dqn_model maps the observations, selector selects from the net's output\n",
    "agent(torch.zeros(2, 5))"
   ]
  },
  {
   "cell_type": "code",
   "execution_count": 23,
   "id": "9222fe2c-1543-4ce5-8a61-70c935f7fda2",
   "metadata": {},
   "outputs": [
    {
     "data": {
      "text/plain": [
       "array([2, 2, 1, 0, 1, 1, 0, 2, 1, 2])"
      ]
     },
     "execution_count": 23,
     "metadata": {},
     "output_type": "execute_result"
    }
   ],
   "source": [
    "# eplison-greedy\n",
    "selector = ptan.actions.EpsilonGreedyActionSelector(epsilon=1.0)\n",
    "agent = ptan.agent.DQNAgent(dqn_model=net, action_selector=selector) # has internal net!\n",
    "agent(torch.zeros(10,5))[0]"
   ]
  },
  {
   "cell_type": "code",
   "execution_count": 24,
   "id": "3dbdbacd-e1e9-49d6-bbe9-bf61ceec3632",
   "metadata": {},
   "outputs": [
    {
     "data": {
      "text/plain": [
       "array([0, 1, 2, 0, 0, 0, 0, 0, 0, 1])"
      ]
     },
     "execution_count": 24,
     "metadata": {},
     "output_type": "execute_result"
    }
   ],
   "source": [
    "selector.epsilon = 0.5 # can change the epsilon on the fly!\n",
    "agent(torch.zeros(10, 5))[0]"
   ]
  },
  {
   "cell_type": "markdown",
   "id": "953f7d45-f805-4ba4-abe1-e4b7d56ff0fd",
   "metadata": {},
   "source": [
    "* PolicyAgent"
   ]
  },
  {
   "cell_type": "code",
   "execution_count": 25,
   "id": "ef6876b8-98bc-4a47-8dba-7bcd959266fc",
   "metadata": {},
   "outputs": [],
   "source": [
    "class PolicyNet(nn.Module): # This network will produce probability\n",
    "    def __init__(self, actions: int):\n",
    "        super(PolicyNet, self).__init__()\n",
    "        self.actions = actions\n",
    "    \n",
    "    def forward(self, x):\n",
    "        shape = (x.size()[0], self.actions)\n",
    "        res = torch.zeros(shape, dtype=torch.float32)\n",
    "        res[:, 0] = 0.5\n",
    "        res[:, 1] = 0.5\n",
    "        return res"
   ]
  },
  {
   "cell_type": "code",
   "execution_count": 26,
   "id": "d47cfd6f-23b1-4e56-bd73-5607cd07107b",
   "metadata": {},
   "outputs": [
    {
     "data": {
      "text/plain": [
       "tensor([[0.5000, 0.5000, 0.0000, 0.0000, 0.0000],\n",
       "        [0.5000, 0.5000, 0.0000, 0.0000, 0.0000],\n",
       "        [0.5000, 0.5000, 0.0000, 0.0000, 0.0000],\n",
       "        [0.5000, 0.5000, 0.0000, 0.0000, 0.0000],\n",
       "        [0.5000, 0.5000, 0.0000, 0.0000, 0.0000],\n",
       "        [0.5000, 0.5000, 0.0000, 0.0000, 0.0000]])"
      ]
     },
     "execution_count": 26,
     "metadata": {},
     "output_type": "execute_result"
    }
   ],
   "source": [
    "net = PolicyNet(actions=5)\n",
    "net(torch.zeros(6, 10))"
   ]
  },
  {
   "cell_type": "code",
   "execution_count": 27,
   "id": "07774023-6e9f-4ddf-a10c-1bce639bb6a7",
   "metadata": {},
   "outputs": [
    {
     "data": {
      "text/plain": [
       "array([0, 1, 4, 3, 1, 1])"
      ]
     },
     "execution_count": 27,
     "metadata": {},
     "output_type": "execute_result"
    }
   ],
   "source": [
    "# policyAgent in combination with ProbabilityActionSelector!\n",
    "selector = ptan.actions.ProbabilityActionSelector()\n",
    "agent = ptan.agent.PolicyAgent(model=net, action_selector=selector, apply_softmax=True) # what's the deference between PolicyAgent and DQNAgent? -> softmax!!\n",
    "agent(torch.zeros(6, 5))[0]"
   ]
  },
  {
   "cell_type": "code",
   "execution_count": 28,
   "id": "4f2d4b0c-c558-4f3d-b890-758343944b37",
   "metadata": {},
   "outputs": [
    {
     "data": {
      "text/plain": [
       "tensor([[0.2618, 0.2618, 0.1588, 0.1588, 0.1588]])"
      ]
     },
     "execution_count": 28,
     "metadata": {},
     "output_type": "execute_result"
    }
   ],
   "source": [
    "nn.functional.softmax(net(torch.zeros(1, 10)), dim=1) # non-zero result at 0"
   ]
  },
  {
   "cell_type": "markdown",
   "id": "ef2e1f4c-214f-4454-ac4b-da15dae04f03",
   "metadata": {},
   "source": [
    "* Experience Source"
   ]
  },
  {
   "cell_type": "code",
   "execution_count": 29,
   "id": "26fb57fd-8b74-494f-bf52-f5961eefca95",
   "metadata": {},
   "outputs": [],
   "source": [
    "import gym\n",
    "# implement a very simple gym env\n",
    "\n",
    "class ToyEnv(gym.Env):\n",
    "    def __init__(self):\n",
    "        super(ToyEnv, self).__init__()\n",
    "        self.observation_space = gym.spaces.Discrete(n=5)\n",
    "        self.action_space = gym.spaces.Discrete(n=3)\n",
    "        self.step_index = 0\n",
    "        pass\n",
    "    \n",
    "    def reset(self):\n",
    "        self.step_index = 0\n",
    "        return self.step_index\n",
    "    \n",
    "    def step(self, action):\n",
    "        is_done = self.step_index == 10\n",
    "        if is_done:\n",
    "            return self.step_index % self.observation_space.n, 0.0, is_done, {}\n",
    "        \n",
    "        self.step_index += 1\n",
    "        return self.step_index % self.observation_space.n, 0.0, is_done, {}"
   ]
  },
  {
   "cell_type": "code",
   "execution_count": 30,
   "id": "bc1863c5-ba5e-4dac-919c-5600dea52aca",
   "metadata": {},
   "outputs": [],
   "source": [
    "from typing import List, Optional, Tuple, Any\n",
    "\n",
    "class DullAgent(ptan.agent.BaseAgent):\n",
    "    def __init__(self, action: int):\n",
    "        self.action = action\n",
    "        \n",
    "    def __call__(self, observations=List[Any], state: Optional[List]=None) -> Tuple[List[int], Optional[List]]:\n",
    "        return [self.action for _ in observations], state"
   ]
  },
  {
   "cell_type": "code",
   "execution_count": 38,
   "id": "964d96fc-42f6-4479-a722-e74d222098a6",
   "metadata": {},
   "outputs": [
    {
     "name": "stdout",
     "output_type": "stream",
     "text": [
      "(Experience(state=0, action=1, reward=0.0, done=False), Experience(state=1, action=1, reward=0.0, done=False))\n",
      "(Experience(state=1, action=1, reward=0.0, done=False), Experience(state=2, action=1, reward=0.0, done=False))\n",
      "(Experience(state=2, action=1, reward=0.0, done=False), Experience(state=3, action=1, reward=0.0, done=False))\n",
      "(Experience(state=3, action=1, reward=0.0, done=False), Experience(state=4, action=1, reward=0.0, done=False))\n",
      "(Experience(state=4, action=1, reward=0.0, done=False), Experience(state=0, action=1, reward=0.0, done=False))\n",
      "(Experience(state=0, action=1, reward=0.0, done=False), Experience(state=1, action=1, reward=0.0, done=False))\n",
      "(Experience(state=1, action=1, reward=0.0, done=False), Experience(state=2, action=1, reward=0.0, done=False))\n",
      "(Experience(state=2, action=1, reward=0.0, done=False), Experience(state=3, action=1, reward=0.0, done=False))\n",
      "(Experience(state=3, action=1, reward=0.0, done=False), Experience(state=4, action=1, reward=0.0, done=False))\n",
      "(Experience(state=4, action=1, reward=0.0, done=False), Experience(state=0, action=1, reward=0.0, done=True))\n",
      "(Experience(state=0, action=1, reward=0.0, done=True),)\n",
      "(Experience(state=0, action=1, reward=0.0, done=False), Experience(state=1, action=1, reward=0.0, done=False))\n",
      "(Experience(state=1, action=1, reward=0.0, done=False), Experience(state=2, action=1, reward=0.0, done=False))\n"
     ]
    }
   ],
   "source": [
    "# ExperienceSource Class\n",
    "env = ToyEnv()\n",
    "agent = DullAgent(action=1) # choose 1 for every state -> doesn't require a net\n",
    "exp_source = ptan.experience.ExperienceSource(env=env, agent=agent, steps_count=2) # batch's size is 2?\n",
    "for idx, exp in enumerate(exp_source): # provides standard python iterator interface!\n",
    "    if idx > 12:\n",
    "        break\n",
    "    print(exp)"
   ]
  },
  {
   "cell_type": "code",
   "execution_count": 41,
   "id": "03cab65f-2149-4671-9c7a-578112e43122",
   "metadata": {},
   "outputs": [
    {
     "name": "stdout",
     "output_type": "stream",
     "text": [
      "(Experience(state=0, action=1, reward=0.0, done=False), Experience(state=1, action=1, reward=0.0, done=False), Experience(state=3, action=1, reward=0.0, done=False), Experience(state=0, action=1, reward=0.0, done=False))\n",
      "---------------\n",
      "(Experience(state=0, action=1, reward=0.0, done=False), Experience(state=2, action=1, reward=0.0, done=False), Experience(state=4, action=1, reward=0.0, done=False), Experience(state=1, action=1, reward=0.0, done=False))\n",
      "---------------\n",
      "(Experience(state=1, action=1, reward=0.0, done=False), Experience(state=3, action=1, reward=0.0, done=False), Experience(state=0, action=1, reward=0.0, done=False), Experience(state=2, action=1, reward=0.0, done=False))\n",
      "---------------\n",
      "(Experience(state=2, action=1, reward=0.0, done=False), Experience(state=4, action=1, reward=0.0, done=False), Experience(state=1, action=1, reward=0.0, done=False), Experience(state=3, action=1, reward=0.0, done=False))\n",
      "---------------\n",
      "(Experience(state=3, action=1, reward=0.0, done=False), Experience(state=0, action=1, reward=0.0, done=False), Experience(state=2, action=1, reward=0.0, done=False), Experience(state=4, action=1, reward=0.0, done=True))\n",
      "---------------\n",
      "(Experience(state=0, action=1, reward=0.0, done=False), Experience(state=2, action=1, reward=0.0, done=False), Experience(state=4, action=1, reward=0.0, done=True))\n",
      "---------------\n",
      "(Experience(state=2, action=1, reward=0.0, done=False), Experience(state=4, action=1, reward=0.0, done=True))\n",
      "---------------\n",
      "(Experience(state=4, action=1, reward=0.0, done=True),)\n",
      "---------------\n",
      "(Experience(state=4, action=1, reward=0.0, done=False), Experience(state=1, action=1, reward=0.0, done=False), Experience(state=3, action=1, reward=0.0, done=False), Experience(state=0, action=1, reward=0.0, done=False))\n",
      "---------------\n",
      "(Experience(state=1, action=1, reward=0.0, done=False), Experience(state=3, action=1, reward=0.0, done=False), Experience(state=0, action=1, reward=0.0, done=False), Experience(state=1, action=1, reward=0.0, done=False))\n",
      "---------------\n",
      "(Experience(state=3, action=1, reward=0.0, done=False), Experience(state=0, action=1, reward=0.0, done=False), Experience(state=1, action=1, reward=0.0, done=False), Experience(state=3, action=1, reward=0.0, done=False))\n",
      "---------------\n",
      "(Experience(state=0, action=1, reward=0.0, done=False), Experience(state=1, action=1, reward=0.0, done=False), Experience(state=3, action=1, reward=0.0, done=False), Experience(state=0, action=1, reward=0.0, done=False))\n",
      "---------------\n",
      "(Experience(state=0, action=1, reward=0.0, done=False), Experience(state=2, action=1, reward=0.0, done=False), Experience(state=4, action=1, reward=0.0, done=False), Experience(state=1, action=1, reward=0.0, done=False))\n",
      "---------------\n"
     ]
    }
   ],
   "source": [
    "exp_source = ptan.experience.ExperienceSource(env=[env, env], agent=agent, steps_count=4) # batch's size is 2?\n",
    "for idx, exp in enumerate(exp_source): # provides standard python iterator interface!\n",
    "    if idx > 12:\n",
    "        break\n",
    "    print(exp)\n",
    "    print(\"---------------\")"
   ]
  },
  {
   "cell_type": "code",
   "execution_count": null,
   "id": "ffe9f73e-17ba-4f73-8632-1c2e41f7114c",
   "metadata": {},
   "outputs": [],
   "source": []
  }
 ],
 "metadata": {
  "kernelspec": {
   "display_name": "Python [conda env:DRLH]",
   "language": "python",
   "name": "conda-env-DRLH-py"
  },
  "language_info": {
   "codemirror_mode": {
    "name": "ipython",
    "version": 3
   },
   "file_extension": ".py",
   "mimetype": "text/x-python",
   "name": "python",
   "nbconvert_exporter": "python",
   "pygments_lexer": "ipython3",
   "version": "3.7.0"
  }
 },
 "nbformat": 4,
 "nbformat_minor": 5
}
