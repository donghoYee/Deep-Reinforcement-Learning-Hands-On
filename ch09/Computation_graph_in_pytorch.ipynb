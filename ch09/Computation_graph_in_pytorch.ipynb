{
 "cells": [
  {
   "cell_type": "code",
   "execution_count": 1,
   "id": "b26401ab-f9c3-4d46-924b-6cd68b5b37c2",
   "metadata": {},
   "outputs": [],
   "source": [
    "import torch"
   ]
  },
  {
   "cell_type": "code",
   "execution_count": 3,
   "id": "33d2f642-937d-4298-8067-98e568c39a13",
   "metadata": {},
   "outputs": [],
   "source": [
    "@torch.no_grad()\n",
    "def fun_a(t):\n",
    "    return t*2"
   ]
  },
  {
   "cell_type": "code",
   "execution_count": 4,
   "id": "59bc9cb5-6c75-4937-b5b9-1565c1764157",
   "metadata": {},
   "outputs": [],
   "source": [
    "def fun_b(t):\n",
    "    return t*2"
   ]
  },
  {
   "cell_type": "code",
   "execution_count": 5,
   "id": "7d3b004d-e788-40b0-ab02-d86de0a16a56",
   "metadata": {},
   "outputs": [],
   "source": [
    "t = torch.ones(3, requires_grad = True)"
   ]
  },
  {
   "cell_type": "code",
   "execution_count": 6,
   "id": "61448541-4e6b-4995-aa37-988e4c5939a4",
   "metadata": {},
   "outputs": [
    {
     "data": {
      "text/plain": [
       "tensor([1., 1., 1.], requires_grad=True)"
      ]
     },
     "execution_count": 6,
     "metadata": {},
     "output_type": "execute_result"
    }
   ],
   "source": [
    "t"
   ]
  },
  {
   "cell_type": "code",
   "execution_count": 7,
   "id": "47151769-2f70-4583-963c-206da934c0d2",
   "metadata": {},
   "outputs": [],
   "source": [
    "a = fun_a(t)\n",
    "b = fun_b(t)"
   ]
  },
  {
   "cell_type": "code",
   "execution_count": 9,
   "id": "bb06fa5b-84f7-4782-9664-134ee94ae5a6",
   "metadata": {},
   "outputs": [
    {
     "data": {
      "text/plain": [
       "tensor([2., 2., 2.])"
      ]
     },
     "execution_count": 9,
     "metadata": {},
     "output_type": "execute_result"
    }
   ],
   "source": [
    "a"
   ]
  },
  {
   "cell_type": "code",
   "execution_count": 10,
   "id": "81acebd4-eb60-477d-bbef-b940ea76410f",
   "metadata": {},
   "outputs": [
    {
     "data": {
      "text/plain": [
       "tensor([2., 2., 2.], grad_fn=<MulBackward0>)"
      ]
     },
     "execution_count": 10,
     "metadata": {},
     "output_type": "execute_result"
    }
   ],
   "source": [
    "b"
   ]
  },
  {
   "cell_type": "code",
   "execution_count": 11,
   "id": "25f92311-99db-49c1-9e99-c26905edcfeb",
   "metadata": {},
   "outputs": [
    {
     "data": {
      "text/plain": [
       "tensor([2., 2., 2.], grad_fn=<MulBackward0>)"
      ]
     },
     "execution_count": 11,
     "metadata": {},
     "output_type": "execute_result"
    }
   ],
   "source": [
    "a*t"
   ]
  },
  {
   "cell_type": "code",
   "execution_count": 12,
   "id": "1a919754-f916-4c10-8659-7d43eedb6497",
   "metadata": {},
   "outputs": [],
   "source": [
    "with torch.no_grad():\n",
    "    c = t*2"
   ]
  },
  {
   "cell_type": "code",
   "execution_count": 13,
   "id": "ef8f357b-33c0-4b67-a264-3aebfbdd6712",
   "metadata": {},
   "outputs": [
    {
     "data": {
      "text/plain": [
       "tensor([2., 2., 2.])"
      ]
     },
     "execution_count": 13,
     "metadata": {},
     "output_type": "execute_result"
    }
   ],
   "source": [
    "c"
   ]
  },
  {
   "cell_type": "code",
   "execution_count": null,
   "id": "81bda275-ac04-4fc6-ae35-922d9ba9cea2",
   "metadata": {},
   "outputs": [],
   "source": []
  }
 ],
 "metadata": {
  "kernelspec": {
   "display_name": "Python [conda env:DRLH]",
   "language": "python",
   "name": "conda-env-DRLH-py"
  },
  "language_info": {
   "codemirror_mode": {
    "name": "ipython",
    "version": 3
   },
   "file_extension": ".py",
   "mimetype": "text/x-python",
   "name": "python",
   "nbconvert_exporter": "python",
   "pygments_lexer": "ipython3",
   "version": "3.7.0"
  }
 },
 "nbformat": 4,
 "nbformat_minor": 5
}
