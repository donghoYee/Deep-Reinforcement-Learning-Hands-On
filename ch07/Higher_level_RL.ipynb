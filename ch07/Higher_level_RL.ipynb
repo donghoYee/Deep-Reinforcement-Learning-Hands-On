{
 "cells": [
  {
   "cell_type": "markdown",
   "id": "b8181f58-73f0-4230-a5e5-cdc3d7ba5cae",
   "metadata": {},
   "source": [
    "# Higher-Level RL Libraries"
   ]
  },
  {
   "cell_type": "markdown",
   "id": "3f15d830-35cc-4420-9b20-cb5272b8e6ab",
   "metadata": {},
   "source": [
    "* Action selectors"
   ]
  },
  {
   "cell_type": "code",
   "execution_count": 16,
   "id": "92674acb-c1de-46b6-a3ea-6fef7b29515d",
   "metadata": {},
   "outputs": [
    {
     "name": "stdout",
     "output_type": "stream",
     "text": [
      "[2 0]\n"
     ]
    }
   ],
   "source": [
    "import numpy as np\n",
    "import ptan\n",
    "\n",
    "q_vals = np.array([[1, 2, 3], [1, -1, 0]])\n",
    "selector = ptan.actions.ArgmaxActionSelector()\n",
    "print(selector(q_vals))"
   ]
  },
  {
   "cell_type": "code",
   "execution_count": 17,
   "id": "265dfd03-d8d6-4358-b6be-f7fabdf39258",
   "metadata": {},
   "outputs": [
    {
     "name": "stdout",
     "output_type": "stream",
     "text": [
      "[2 0]\n"
     ]
    }
   ],
   "source": [
    "selector = ptan.actions.EpsilonGreedyActionSelector(epsilon=0.0) # same as argmax?\n",
    "print(selector(q_vals))"
   ]
  },
  {
   "cell_type": "code",
   "execution_count": 18,
   "id": "9b255bf8-7852-4c36-adb5-c756fc1f93ea",
   "metadata": {},
   "outputs": [
    {
     "name": "stdout",
     "output_type": "stream",
     "text": [
      "[0 0]\n"
     ]
    }
   ],
   "source": [
    "selector = ptan.actions.EpsilonGreedyActionSelector(epsilon=1.0)\n",
    "print(selector(q_vals))"
   ]
  },
  {
   "cell_type": "code",
   "execution_count": 19,
   "id": "2e8d23a6-15d0-4269-996a-bddbecfcdb9c",
   "metadata": {},
   "outputs": [
    {
     "name": "stdout",
     "output_type": "stream",
     "text": [
      "[0 2 0]\n",
      "[1 2 1]\n",
      "[2 2 1]\n",
      "[2 2 0]\n",
      "[2 2 1]\n",
      "[0 2 1]\n",
      "[2 2 1]\n",
      "[2 2 0]\n",
      "[0 2 0]\n",
      "[1 2 0]\n"
     ]
    }
   ],
   "source": [
    "selector = ptan.actions.ProbabilityActionSelector()\n",
    "for _ in range(10):\n",
    "    acts = selector(np.array([\n",
    "        [0.2, 0.3, 0.5],\n",
    "        [0.0, 0.0, 1.0],\n",
    "        [0.5, 0.5, 0.0]]))\n",
    "    print(acts)"
   ]
  },
  {
   "cell_type": "markdown",
   "id": "3e824805-52e8-484e-a900-f86ac2898fa3",
   "metadata": {},
   "source": [
    "* DQNAgent"
   ]
  },
  {
   "cell_type": "code",
   "execution_count": 20,
   "id": "b0ea81ad-c7f0-42b9-93fd-4308255f1afa",
   "metadata": {},
   "outputs": [],
   "source": [
    "import torch\n",
    "import torch.nn as nn\n",
    "\n",
    "class DQNNet(nn.Module):\n",
    "    def __init__(self, actions: int):\n",
    "        super(DQNNet, self).__init__()\n",
    "        self.actions = actions\n",
    "        \n",
    "    def forward(self, x):\n",
    "        return torch.eye(x.size()[0], self.actions)"
   ]
  },
  {
   "cell_type": "code",
   "execution_count": 21,
   "id": "3c1ce9ad-555a-4147-956c-fc949d32890a",
   "metadata": {},
   "outputs": [
    {
     "data": {
      "text/plain": [
       "tensor([[1., 0., 0.],\n",
       "        [0., 1., 0.]])"
      ]
     },
     "execution_count": 21,
     "metadata": {},
     "output_type": "execute_result"
    }
   ],
   "source": [
    "net = DQNNet(actions=3)\n",
    "net(torch.zeros(2, 10))"
   ]
  },
  {
   "cell_type": "code",
   "execution_count": 22,
   "id": "b4fc73d1-83f1-4f07-88e7-7d01dfe49d01",
   "metadata": {},
   "outputs": [
    {
     "data": {
      "text/plain": [
       "(array([0, 1]), [None, None])"
      ]
     },
     "execution_count": 22,
     "metadata": {},
     "output_type": "execute_result"
    }
   ],
   "source": [
    "# simple argmax policy\n",
    "selector = ptan.actions.ArgmaxActionSelector()\n",
    "agent = ptan.agent.DQNAgent(dqn_model=net, action_selector=selector) # dqn_model maps the observations, selector selects from the net's output\n",
    "agent(torch.zeros(2, 5))"
   ]
  },
  {
   "cell_type": "code",
   "execution_count": 23,
   "id": "9222fe2c-1543-4ce5-8a61-70c935f7fda2",
   "metadata": {},
   "outputs": [
    {
     "data": {
      "text/plain": [
       "array([2, 2, 1, 0, 1, 1, 0, 2, 1, 2])"
      ]
     },
     "execution_count": 23,
     "metadata": {},
     "output_type": "execute_result"
    }
   ],
   "source": [
    "# eplison-greedy\n",
    "selector = ptan.actions.EpsilonGreedyActionSelector(epsilon=1.0)\n",
    "agent = ptan.agent.DQNAgent(dqn_model=net, action_selector=selector) # has internal net!\n",
    "agent(torch.zeros(10,5))[0]"
   ]
  },
  {
   "cell_type": "code",
   "execution_count": 24,
   "id": "3dbdbacd-e1e9-49d6-bbe9-bf61ceec3632",
   "metadata": {},
   "outputs": [
    {
     "data": {
      "text/plain": [
       "array([0, 1, 2, 0, 0, 0, 0, 0, 0, 1])"
      ]
     },
     "execution_count": 24,
     "metadata": {},
     "output_type": "execute_result"
    }
   ],
   "source": [
    "selector.epsilon = 0.5 # can change the epsilon on the fly!\n",
    "agent(torch.zeros(10, 5))[0]"
   ]
  },
  {
   "cell_type": "markdown",
   "id": "953f7d45-f805-4ba4-abe1-e4b7d56ff0fd",
   "metadata": {},
   "source": [
    "* PolicyAgent"
   ]
  },
  {
   "cell_type": "code",
   "execution_count": 25,
   "id": "ef6876b8-98bc-4a47-8dba-7bcd959266fc",
   "metadata": {},
   "outputs": [],
   "source": [
    "class PolicyNet(nn.Module): # This network will produce probability\n",
    "    def __init__(self, actions: int):\n",
    "        super(PolicyNet, self).__init__()\n",
    "        self.actions = actions\n",
    "    \n",
    "    def forward(self, x):\n",
    "        shape = (x.size()[0], self.actions)\n",
    "        res = torch.zeros(shape, dtype=torch.float32)\n",
    "        res[:, 0] = 0.5\n",
    "        res[:, 1] = 0.5\n",
    "        return res"
   ]
  },
  {
   "cell_type": "code",
   "execution_count": 26,
   "id": "d47cfd6f-23b1-4e56-bd73-5607cd07107b",
   "metadata": {},
   "outputs": [
    {
     "data": {
      "text/plain": [
       "tensor([[0.5000, 0.5000, 0.0000, 0.0000, 0.0000],\n",
       "        [0.5000, 0.5000, 0.0000, 0.0000, 0.0000],\n",
       "        [0.5000, 0.5000, 0.0000, 0.0000, 0.0000],\n",
       "        [0.5000, 0.5000, 0.0000, 0.0000, 0.0000],\n",
       "        [0.5000, 0.5000, 0.0000, 0.0000, 0.0000],\n",
       "        [0.5000, 0.5000, 0.0000, 0.0000, 0.0000]])"
      ]
     },
     "execution_count": 26,
     "metadata": {},
     "output_type": "execute_result"
    }
   ],
   "source": [
    "net = PolicyNet(actions=5)\n",
    "net(torch.zeros(6, 10))"
   ]
  },
  {
   "cell_type": "code",
   "execution_count": 27,
   "id": "07774023-6e9f-4ddf-a10c-1bce639bb6a7",
   "metadata": {},
   "outputs": [
    {
     "data": {
      "text/plain": [
       "array([0, 1, 4, 3, 1, 1])"
      ]
     },
     "execution_count": 27,
     "metadata": {},
     "output_type": "execute_result"
    }
   ],
   "source": [
    "# policyAgent in combination with ProbabilityActionSelector!\n",
    "selector = ptan.actions.ProbabilityActionSelector()\n",
    "agent = ptan.agent.PolicyAgent(model=net, action_selector=selector, apply_softmax=True) # what's the deference between PolicyAgent and DQNAgent? -> softmax!!\n",
    "agent(torch.zeros(6, 5))[0]"
   ]
  },
  {
   "cell_type": "code",
   "execution_count": 28,
   "id": "4f2d4b0c-c558-4f3d-b890-758343944b37",
   "metadata": {},
   "outputs": [
    {
     "data": {
      "text/plain": [
       "tensor([[0.2618, 0.2618, 0.1588, 0.1588, 0.1588]])"
      ]
     },
     "execution_count": 28,
     "metadata": {},
     "output_type": "execute_result"
    }
   ],
   "source": [
    "nn.functional.softmax(net(torch.zeros(1, 10)), dim=1) # non-zero result at 0"
   ]
  },
  {
   "cell_type": "markdown",
   "id": "ef2e1f4c-214f-4454-ac4b-da15dae04f03",
   "metadata": {},
   "source": [
    "* Experience Source"
   ]
  },
  {
   "cell_type": "code",
   "execution_count": 45,
   "id": "26fb57fd-8b74-494f-bf52-f5961eefca95",
   "metadata": {},
   "outputs": [],
   "source": [
    "import gym\n",
    "# implement a very simple gym env\n",
    "\n",
    "class ToyEnv(gym.Env):\n",
    "    def __init__(self):\n",
    "        super(ToyEnv, self).__init__()\n",
    "        self.observation_space = gym.spaces.Discrete(n=5)\n",
    "        self.action_space = gym.spaces.Discrete(n=3)\n",
    "        self.step_index = 0\n",
    "        pass\n",
    "    \n",
    "    def reset(self):\n",
    "        self.step_index = 0\n",
    "        return self.step_index\n",
    "    \n",
    "    def step(self, action):\n",
    "        is_done = self.step_index == 10\n",
    "        if is_done:\n",
    "            return self.step_index % self.observation_space.n, 1.0, is_done, {}\n",
    "        \n",
    "        self.step_index += 1\n",
    "        return self.step_index % self.observation_space.n, 1.0, is_done, {}"
   ]
  },
  {
   "cell_type": "code",
   "execution_count": 46,
   "id": "bc1863c5-ba5e-4dac-919c-5600dea52aca",
   "metadata": {},
   "outputs": [],
   "source": [
    "from typing import List, Optional, Tuple, Any\n",
    "\n",
    "class DullAgent(ptan.agent.BaseAgent):\n",
    "    def __init__(self, action: int):\n",
    "        self.action = action\n",
    "        \n",
    "    def __call__(self, observations=List[Any], state: Optional[List]=None) -> Tuple[List[int], Optional[List]]:\n",
    "        return [self.action for _ in observations], state"
   ]
  },
  {
   "cell_type": "code",
   "execution_count": 47,
   "id": "964d96fc-42f6-4479-a722-e74d222098a6",
   "metadata": {},
   "outputs": [
    {
     "name": "stdout",
     "output_type": "stream",
     "text": [
      "(Experience(state=0, action=1, reward=1.0, done=False), Experience(state=1, action=1, reward=1.0, done=False))\n",
      "(Experience(state=1, action=1, reward=1.0, done=False), Experience(state=2, action=1, reward=1.0, done=False))\n",
      "(Experience(state=2, action=1, reward=1.0, done=False), Experience(state=3, action=1, reward=1.0, done=False))\n",
      "(Experience(state=3, action=1, reward=1.0, done=False), Experience(state=4, action=1, reward=1.0, done=False))\n",
      "(Experience(state=4, action=1, reward=1.0, done=False), Experience(state=0, action=1, reward=1.0, done=False))\n",
      "(Experience(state=0, action=1, reward=1.0, done=False), Experience(state=1, action=1, reward=1.0, done=False))\n",
      "(Experience(state=1, action=1, reward=1.0, done=False), Experience(state=2, action=1, reward=1.0, done=False))\n",
      "(Experience(state=2, action=1, reward=1.0, done=False), Experience(state=3, action=1, reward=1.0, done=False))\n",
      "(Experience(state=3, action=1, reward=1.0, done=False), Experience(state=4, action=1, reward=1.0, done=False))\n",
      "(Experience(state=4, action=1, reward=1.0, done=False), Experience(state=0, action=1, reward=1.0, done=True))\n",
      "(Experience(state=0, action=1, reward=1.0, done=True),)\n",
      "(Experience(state=0, action=1, reward=1.0, done=False), Experience(state=1, action=1, reward=1.0, done=False))\n",
      "(Experience(state=1, action=1, reward=1.0, done=False), Experience(state=2, action=1, reward=1.0, done=False))\n"
     ]
    }
   ],
   "source": [
    "# ExperienceSource Class\n",
    "env = ToyEnv()\n",
    "agent = DullAgent(action=1) # choose 1 for every state -> doesn't require a net\n",
    "exp_source = ptan.experience.ExperienceSource(env=env, agent=agent, steps_count=2) # batch's size is 2?\n",
    "for idx, exp in enumerate(exp_source): # provides standard python iterator interface!\n",
    "    if idx > 12:\n",
    "        break\n",
    "    print(exp)"
   ]
  },
  {
   "cell_type": "code",
   "execution_count": 48,
   "id": "03cab65f-2149-4671-9c7a-578112e43122",
   "metadata": {},
   "outputs": [
    {
     "name": "stdout",
     "output_type": "stream",
     "text": [
      "(Experience(state=0, action=1, reward=1.0, done=False), Experience(state=1, action=1, reward=1.0, done=False), Experience(state=3, action=1, reward=1.0, done=False), Experience(state=0, action=1, reward=1.0, done=False))\n",
      "---------------\n",
      "(Experience(state=0, action=1, reward=1.0, done=False), Experience(state=2, action=1, reward=1.0, done=False), Experience(state=4, action=1, reward=1.0, done=False), Experience(state=1, action=1, reward=1.0, done=False))\n",
      "---------------\n",
      "(Experience(state=1, action=1, reward=1.0, done=False), Experience(state=3, action=1, reward=1.0, done=False), Experience(state=0, action=1, reward=1.0, done=False), Experience(state=2, action=1, reward=1.0, done=False))\n",
      "---------------\n",
      "(Experience(state=2, action=1, reward=1.0, done=False), Experience(state=4, action=1, reward=1.0, done=False), Experience(state=1, action=1, reward=1.0, done=False), Experience(state=3, action=1, reward=1.0, done=False))\n",
      "---------------\n",
      "(Experience(state=3, action=1, reward=1.0, done=False), Experience(state=0, action=1, reward=1.0, done=False), Experience(state=2, action=1, reward=1.0, done=False), Experience(state=4, action=1, reward=1.0, done=True))\n",
      "---------------\n",
      "(Experience(state=0, action=1, reward=1.0, done=False), Experience(state=2, action=1, reward=1.0, done=False), Experience(state=4, action=1, reward=1.0, done=True))\n",
      "---------------\n",
      "(Experience(state=2, action=1, reward=1.0, done=False), Experience(state=4, action=1, reward=1.0, done=True))\n",
      "---------------\n",
      "(Experience(state=4, action=1, reward=1.0, done=True),)\n",
      "---------------\n",
      "(Experience(state=4, action=1, reward=1.0, done=False), Experience(state=1, action=1, reward=1.0, done=False), Experience(state=3, action=1, reward=1.0, done=False), Experience(state=0, action=1, reward=1.0, done=False))\n",
      "---------------\n",
      "(Experience(state=1, action=1, reward=1.0, done=False), Experience(state=3, action=1, reward=1.0, done=False), Experience(state=0, action=1, reward=1.0, done=False), Experience(state=1, action=1, reward=1.0, done=False))\n",
      "---------------\n",
      "(Experience(state=3, action=1, reward=1.0, done=False), Experience(state=0, action=1, reward=1.0, done=False), Experience(state=1, action=1, reward=1.0, done=False), Experience(state=3, action=1, reward=1.0, done=False))\n",
      "---------------\n",
      "(Experience(state=0, action=1, reward=1.0, done=False), Experience(state=1, action=1, reward=1.0, done=False), Experience(state=3, action=1, reward=1.0, done=False), Experience(state=0, action=1, reward=1.0, done=False))\n",
      "---------------\n",
      "(Experience(state=0, action=1, reward=1.0, done=False), Experience(state=2, action=1, reward=1.0, done=False), Experience(state=4, action=1, reward=1.0, done=False), Experience(state=1, action=1, reward=1.0, done=False))\n",
      "---------------\n"
     ]
    }
   ],
   "source": [
    "exp_source = ptan.experience.ExperienceSource(env=[env, env], agent=agent, steps_count=4) # batch's size is 2?\n",
    "for idx, exp in enumerate(exp_source): # provides standard python iterator interface!\n",
    "    if idx > 12:\n",
    "        break\n",
    "    print(exp)\n",
    "    print(\"---------------\")"
   ]
  },
  {
   "cell_type": "markdown",
   "id": "8d0adaa4-3db9-458c-9dc7-b051a364a2fe",
   "metadata": {},
   "source": [
    "* ExperienceSourceFirstLast"
   ]
  },
  {
   "cell_type": "code",
   "execution_count": 49,
   "id": "ef66a12d-cd2a-4138-8a4f-d1f431e803d9",
   "metadata": {},
   "outputs": [
    {
     "name": "stdout",
     "output_type": "stream",
     "text": [
      "ExperienceFirstLast(state=0, action=1, reward=1.0, last_state=1)\n",
      "ExperienceFirstLast(state=1, action=1, reward=1.0, last_state=2)\n",
      "ExperienceFirstLast(state=2, action=1, reward=1.0, last_state=3)\n",
      "ExperienceFirstLast(state=3, action=1, reward=1.0, last_state=4)\n",
      "ExperienceFirstLast(state=4, action=1, reward=1.0, last_state=0)\n",
      "ExperienceFirstLast(state=0, action=1, reward=1.0, last_state=1)\n",
      "ExperienceFirstLast(state=1, action=1, reward=1.0, last_state=2)\n",
      "ExperienceFirstLast(state=2, action=1, reward=1.0, last_state=3)\n",
      "ExperienceFirstLast(state=3, action=1, reward=1.0, last_state=4)\n",
      "ExperienceFirstLast(state=4, action=1, reward=1.0, last_state=0)\n",
      "ExperienceFirstLast(state=0, action=1, reward=1.0, last_state=None)\n",
      "ExperienceFirstLast(state=0, action=1, reward=1.0, last_state=1)\n"
     ]
    }
   ],
   "source": [
    "exp_source = ptan.experience.ExperienceSourceFirstLast(env, agent, gamma=1.0, steps_count = 1)\n",
    "\n",
    "for idx, exp in enumerate(exp_source):\n",
    "    print(exp)\n",
    "    if idx > 10:\n",
    "        break"
   ]
  },
  {
   "cell_type": "code",
   "execution_count": 51,
   "id": "ca1a6da8-eb17-429c-820f-d5440ad8c884",
   "metadata": {},
   "outputs": [
    {
     "name": "stdout",
     "output_type": "stream",
     "text": [
      "ExperienceFirstLast(state=0, action=1, reward=2.0, last_state=2)\n",
      "ExperienceFirstLast(state=1, action=1, reward=2.0, last_state=3)\n",
      "ExperienceFirstLast(state=2, action=1, reward=2.0, last_state=4)\n",
      "ExperienceFirstLast(state=3, action=1, reward=2.0, last_state=0)\n",
      "ExperienceFirstLast(state=4, action=1, reward=2.0, last_state=1)\n",
      "ExperienceFirstLast(state=0, action=1, reward=2.0, last_state=2)\n",
      "ExperienceFirstLast(state=1, action=1, reward=2.0, last_state=3)\n",
      "ExperienceFirstLast(state=2, action=1, reward=2.0, last_state=4)\n",
      "ExperienceFirstLast(state=3, action=1, reward=2.0, last_state=0)\n",
      "ExperienceFirstLast(state=4, action=1, reward=2.0, last_state=None)\n",
      "ExperienceFirstLast(state=0, action=1, reward=1.0, last_state=None)\n",
      "ExperienceFirstLast(state=0, action=1, reward=2.0, last_state=2)\n"
     ]
    }
   ],
   "source": [
    "exp_source = ptan.experience.ExperienceSourceFirstLast(env, agent, gamma=1.0, steps_count = 2) \n",
    "\n",
    "for idx, exp in enumerate(exp_source):\n",
    "    print(exp)\n",
    "    if idx > 10:\n",
    "        break\n",
    "        \n",
    "# only the first action is shown?"
   ]
  },
  {
   "cell_type": "markdown",
   "id": "949de2e3-dbc9-4556-aa55-92c06cc19a54",
   "metadata": {},
   "source": [
    "* Experience Replay Buffers"
   ]
  },
  {
   "cell_type": "code",
   "execution_count": 76,
   "id": "ebfae9fc-6143-4839-b97b-a1cf21eeb373",
   "metadata": {},
   "outputs": [],
   "source": [
    "env = ToyEnv()\n",
    "agent = DullAgent(action=1)\n",
    "exp_source = ptan.experience.ExperienceSourceFirstLast([env, env], agent,gamma=1.0 , steps_count=3) # put in a lot of envs, they all work the same\n",
    "buffer = ptan.experience.ExperienceReplayBuffer(exp_source, buffer_size=101)"
   ]
  },
  {
   "cell_type": "code",
   "execution_count": 77,
   "id": "bf9186fc-d351-4c12-aa49-6b5cd2568893",
   "metadata": {},
   "outputs": [
    {
     "data": {
      "text/plain": [
       "0"
      ]
     },
     "execution_count": 77,
     "metadata": {},
     "output_type": "execute_result"
    }
   ],
   "source": [
    "len(buffer)"
   ]
  },
  {
   "cell_type": "code",
   "execution_count": 78,
   "id": "3956cae1-e88d-41a8-84fe-797efd3881e7",
   "metadata": {},
   "outputs": [
    {
     "name": "stdout",
     "output_type": "stream",
     "text": [
      "ExperienceFirstLast(state=2, action=1, reward=3.0, last_state=3)\n",
      "ExperienceFirstLast(state=0, action=1, reward=3.0, last_state=None)\n",
      "ExperienceFirstLast(state=3, action=1, reward=3.0, last_state=4)\n",
      "ExperienceFirstLast(state=3, action=1, reward=3.0, last_state=3)\n"
     ]
    }
   ],
   "source": [
    "buffer.populate(120)\n",
    "for step in range(1):\n",
    "    buffer.populate(1)\n",
    "    if len(buffer) < 5:\n",
    "        continue\n",
    "    batch = buffer.sample(4)\n",
    "    \n",
    "    for s in batch:\n",
    "        print(s)"
   ]
  },
  {
   "cell_type": "markdown",
   "id": "0254e787-bb94-4bac-ab29-9c4a5bffbe8f",
   "metadata": {},
   "source": [
    "* TargetNet class"
   ]
  },
  {
   "cell_type": "code",
   "execution_count": 79,
   "id": "5eb73bde-580f-4bf5-abc9-68394eb140db",
   "metadata": {},
   "outputs": [],
   "source": [
    "class DQNNet(nn.Module):\n",
    "    def __init__(self):\n",
    "        super(DQNNet, self).__init__()\n",
    "        self.ff = nn.Linear(5, 3)\n",
    "        \n",
    "    def forward(self, x):\n",
    "        return self.ff(x)"
   ]
  },
  {
   "cell_type": "code",
   "execution_count": 80,
   "id": "849ba7c5-7208-44cc-94de-98cc4f281702",
   "metadata": {},
   "outputs": [
    {
     "data": {
      "text/plain": [
       "DQNNet(\n",
       "  (ff): Linear(in_features=5, out_features=3, bias=True)\n",
       ")"
      ]
     },
     "execution_count": 80,
     "metadata": {},
     "output_type": "execute_result"
    }
   ],
   "source": [
    "net = DQNNet()\n",
    "net"
   ]
  },
  {
   "cell_type": "code",
   "execution_count": 81,
   "id": "504bd9b7-393f-45c8-a9a6-851b6a5f06a3",
   "metadata": {},
   "outputs": [],
   "source": [
    "tgt_net = ptan.agent.TargetNet(net) # copy net!"
   ]
  },
  {
   "cell_type": "code",
   "execution_count": 82,
   "id": "5691a86f-250a-4cbb-9a0d-b7c8ef55906f",
   "metadata": {},
   "outputs": [
    {
     "data": {
      "text/plain": [
       "Parameter containing:\n",
       "tensor([[ 0.0901, -0.2835, -0.4371,  0.0918, -0.4165],\n",
       "        [-0.2148, -0.4259, -0.2545,  0.2414, -0.2175],\n",
       "        [-0.3484,  0.3733, -0.4437,  0.1449, -0.3311]], requires_grad=True)"
      ]
     },
     "execution_count": 82,
     "metadata": {},
     "output_type": "execute_result"
    }
   ],
   "source": [
    "net.ff.weight"
   ]
  },
  {
   "cell_type": "code",
   "execution_count": 83,
   "id": "e70f5ae3-6168-4771-a4f1-4d111727ff68",
   "metadata": {},
   "outputs": [
    {
     "data": {
      "text/plain": [
       "Parameter containing:\n",
       "tensor([[ 0.0901, -0.2835, -0.4371,  0.0918, -0.4165],\n",
       "        [-0.2148, -0.4259, -0.2545,  0.2414, -0.2175],\n",
       "        [-0.3484,  0.3733, -0.4437,  0.1449, -0.3311]], requires_grad=True)"
      ]
     },
     "execution_count": 83,
     "metadata": {},
     "output_type": "execute_result"
    }
   ],
   "source": [
    "tgt_net.target_model.ff.weight"
   ]
  },
  {
   "cell_type": "code",
   "execution_count": 84,
   "id": "1c68ce71-f9c2-4ecc-bdb1-b988887e228f",
   "metadata": {},
   "outputs": [
    {
     "name": "stdout",
     "output_type": "stream",
     "text": [
      "Parameter containing:\n",
      "tensor([[1.0901, 0.7165, 0.5629, 1.0918, 0.5835],\n",
      "        [0.7852, 0.5741, 0.7455, 1.2414, 0.7825],\n",
      "        [0.6516, 1.3733, 0.5563, 1.1449, 0.6689]], requires_grad=True)\n"
     ]
    }
   ],
   "source": [
    "net.ff.weight.data += 1.0\n",
    "print(net.ff.weight)"
   ]
  },
  {
   "cell_type": "code",
   "execution_count": 85,
   "id": "dc1f16a3-0764-492d-b0fb-401ba58c9021",
   "metadata": {},
   "outputs": [
    {
     "data": {
      "text/plain": [
       "Parameter containing:\n",
       "tensor([[ 0.0901, -0.2835, -0.4371,  0.0918, -0.4165],\n",
       "        [-0.2148, -0.4259, -0.2545,  0.2414, -0.2175],\n",
       "        [-0.3484,  0.3733, -0.4437,  0.1449, -0.3311]], requires_grad=True)"
      ]
     },
     "execution_count": 85,
     "metadata": {},
     "output_type": "execute_result"
    }
   ],
   "source": [
    "tgt_net.target_model.ff.weight \n",
    "# independent"
   ]
  },
  {
   "cell_type": "code",
   "execution_count": 87,
   "id": "4e953aab-0c17-4d60-9655-0cb72f9991bd",
   "metadata": {},
   "outputs": [
    {
     "name": "stdout",
     "output_type": "stream",
     "text": [
      "Parameter containing:\n",
      "tensor([[1.0901, 0.7165, 0.5629, 1.0918, 0.5835],\n",
      "        [0.7852, 0.5741, 0.7455, 1.2414, 0.7825],\n",
      "        [0.6516, 1.3733, 0.5563, 1.1449, 0.6689]], requires_grad=True)\n"
     ]
    }
   ],
   "source": [
    "tgt_net.sync() # sync two models\n",
    "print(tgt_net.target_model.ff.weight)"
   ]
  },
  {
   "cell_type": "markdown",
   "id": "4ec59054-af67-4880-891d-7e7bb7b6d587",
   "metadata": {},
   "source": [
    "## The PTAN CartPole solver"
   ]
  },
  {
   "cell_type": "code",
   "execution_count": 88,
   "id": "aad0b5b2-a5e6-46f3-a57e-4fda76f4607f",
   "metadata": {},
   "outputs": [],
   "source": [
    "import gym\n",
    "import ptan\n",
    "import torch\n",
    "import torch.nn as nn\n",
    "import torch.optim as optim\n",
    "import torch.nn.functional as F"
   ]
  },
  {
   "cell_type": "code",
   "execution_count": 89,
   "id": "f595a3a9-4178-4384-8d97-1bf02939117c",
   "metadata": {},
   "outputs": [],
   "source": [
    "HIDDEN_SIZE = 128\n",
    "BATCH_SIZE = 16\n",
    "TGT_NET_SYNC = 10\n",
    "GAMMA = 0.9\n",
    "REPLAY_SIZE = 1000\n",
    "LR = 1e-3\n",
    "EPS_DECAY = 0.99"
   ]
  },
  {
   "cell_type": "code",
   "execution_count": 90,
   "id": "83f9ed5d-5033-4d60-a457-d9aa346ea3be",
   "metadata": {},
   "outputs": [],
   "source": [
    "class Net(nn.Module):\n",
    "    def __init__(self, obs_size, hidden_size, n_actions):\n",
    "        super(Net, self).__init__()\n",
    "        self.net = nn.Sequential(\n",
    "            nn.Linear(obs_size, hidden_size),\n",
    "            nn.ReLU(),\n",
    "            nn.Linear(hidden_size, n_actions)\n",
    "        )\n",
    "        \n",
    "    def forward(self, x):\n",
    "        return self.net(x.float())"
   ]
  },
  {
   "cell_type": "code",
   "execution_count": 92,
   "id": "a649ac17-56b6-4aab-a7be-41f2fc91cbc1",
   "metadata": {},
   "outputs": [],
   "source": [
    "@torch.no_grad()\n",
    "def unpack_batch(batch, net, gamma): # reform batch for better calculation of loss\n",
    "    states = []\n",
    "    actions = []\n",
    "    rewards = []\n",
    "    done_masks = []\n",
    "    last_states = []\n",
    "    \n",
    "    for exp in batch:\n",
    "        states.append(exp.state)\n",
    "        actions.append(exp.action)\n",
    "        rewards.append(exp.reward)\n",
    "        done_masks.append(exp.last_state is None)\n",
    "        \n",
    "        if exp.last_state is None:\n",
    "            last_states.append(exp.state) # need something of same size to put in\n",
    "        else:\n",
    "            last_states.append(exp.last_state)\n",
    "    \n",
    "    states_v = torch.tensor(states)\n",
    "    actions_v = torch.tensor(actions)\n",
    "    rewards_v = torch.tensor(rewards)\n",
    "    last_states_v = torch.tensor(last_states)\n",
    "    \n",
    "    last_state_q_v = net(last_states_v)\n",
    "    best_last_q_v = torch.max(last_state_q_v, dim=1)[0] # get the reward\n",
    "    best_last_q_v[done_masks] = 0.0 # mask the ended reward\n",
    "    return states_v, actions_v, best_last_q_v * gamma + rewards_v #Q(s, a) should be the third arg"
   ]
  },
  {
   "cell_type": "code",
   "execution_count": 100,
   "id": "4e6f678b-189b-4089-87ce-70de388fe82a",
   "metadata": {},
   "outputs": [],
   "source": [
    "env = gym.make(\"CartPole-v0\")\n",
    "obs_size = env.observation_space.shape[0]\n",
    "n_actions = env.action_space.n\n",
    "\n",
    "# create data pipeline\n",
    "net = Net(obs_size, HIDDEN_SIZE, n_actions)\n",
    "tgt_net = ptan.agent.TargetNet(net) #create target net\n",
    "selector = ptan.actions.ArgmaxActionSelector()\n",
    "selector = ptan.actions.EpsilonGreedyActionSelector(epsilon=1, selector=selector) # nest selectors like this!!\n",
    "agent = ptan.agent.DQNAgent(net, selector)\n",
    "exp_source = ptan.experience.ExperienceSourceFirstLast(env, agent, gamma=GAMMA, steps_count=1)\n",
    "buffer = ptan.experience.ExperienceReplayBuffer(exp_source, buffer_size=REPLAY_SIZE)\n",
    "\n",
    "optimizer = optim.Adam(net.parameters(), LR)"
   ]
  },
  {
   "cell_type": "code",
   "execution_count": 101,
   "id": "81878569-6bdd-498e-9dcc-5d75abb706e5",
   "metadata": {},
   "outputs": [
    {
     "name": "stdout",
     "output_type": "stream",
     "text": [
      "16: episode 1 done, reward=15.000, epsilon=1.00\n",
      "50: episode 2 done, reward=34.000, epsilon=0.83\n",
      "72: episode 3 done, reward=22.000, epsilon=0.67\n",
      "86: episode 4 done, reward=14.000, epsilon=0.58\n",
      "97: episode 5 done, reward=11.000, epsilon=0.52\n",
      "125: episode 6 done, reward=28.000, epsilon=0.39\n",
      "141: episode 7 done, reward=16.000, epsilon=0.33\n",
      "154: episode 8 done, reward=13.000, epsilon=0.29\n",
      "164: episode 9 done, reward=10.000, epsilon=0.27\n",
      "173: episode 10 done, reward=9.000, epsilon=0.24\n",
      "182: episode 11 done, reward=9.000, epsilon=0.22\n",
      "192: episode 12 done, reward=10.000, epsilon=0.20\n",
      "201: episode 13 done, reward=9.000, epsilon=0.18\n",
      "210: episode 14 done, reward=9.000, epsilon=0.17\n",
      "224: episode 15 done, reward=14.000, epsilon=0.15\n",
      "233: episode 16 done, reward=9.000, epsilon=0.13\n",
      "243: episode 17 done, reward=10.000, epsilon=0.12\n",
      "255: episode 18 done, reward=12.000, epsilon=0.11\n",
      "264: episode 19 done, reward=9.000, epsilon=0.10\n",
      "275: episode 20 done, reward=11.000, epsilon=0.09\n",
      "285: episode 21 done, reward=10.000, epsilon=0.08\n",
      "293: episode 22 done, reward=8.000, epsilon=0.07\n",
      "303: episode 23 done, reward=10.000, epsilon=0.07\n",
      "312: episode 24 done, reward=9.000, epsilon=0.06\n",
      "323: episode 25 done, reward=11.000, epsilon=0.05\n",
      "359: episode 26 done, reward=36.000, epsilon=0.04\n",
      "377: episode 27 done, reward=18.000, epsilon=0.03\n",
      "386: episode 28 done, reward=9.000, epsilon=0.03\n",
      "396: episode 29 done, reward=10.000, epsilon=0.03\n",
      "405: episode 30 done, reward=9.000, epsilon=0.02\n",
      "415: episode 31 done, reward=10.000, epsilon=0.02\n",
      "425: episode 32 done, reward=10.000, epsilon=0.02\n",
      "434: episode 33 done, reward=9.000, epsilon=0.02\n",
      "450: episode 34 done, reward=16.000, epsilon=0.01\n",
      "497: episode 35 done, reward=47.000, epsilon=0.01\n",
      "561: episode 36 done, reward=64.000, epsilon=0.00\n",
      "630: episode 37 done, reward=69.000, epsilon=0.00\n",
      "678: episode 38 done, reward=48.000, epsilon=0.00\n",
      "756: episode 39 done, reward=78.000, epsilon=0.00\n",
      "845: episode 40 done, reward=89.000, epsilon=0.00\n",
      "904: episode 41 done, reward=59.000, epsilon=0.00\n",
      "922: episode 42 done, reward=18.000, epsilon=0.00\n",
      "942: episode 43 done, reward=20.000, epsilon=0.00\n",
      "971: episode 44 done, reward=29.000, epsilon=0.00\n",
      "1021: episode 45 done, reward=50.000, epsilon=0.00\n",
      "1065: episode 46 done, reward=44.000, epsilon=0.00\n",
      "1092: episode 47 done, reward=27.000, epsilon=0.00\n",
      "1121: episode 48 done, reward=29.000, epsilon=0.00\n",
      "1152: episode 49 done, reward=31.000, epsilon=0.00\n",
      "1189: episode 50 done, reward=37.000, epsilon=0.00\n",
      "1206: episode 51 done, reward=17.000, epsilon=0.00\n",
      "1285: episode 52 done, reward=79.000, epsilon=0.00\n",
      "1383: episode 53 done, reward=98.000, epsilon=0.00\n",
      "1422: episode 54 done, reward=39.000, epsilon=0.00\n",
      "1438: episode 55 done, reward=16.000, epsilon=0.00\n",
      "1477: episode 56 done, reward=39.000, epsilon=0.00\n",
      "1507: episode 57 done, reward=30.000, epsilon=0.00\n",
      "1543: episode 58 done, reward=36.000, epsilon=0.00\n",
      "1580: episode 59 done, reward=37.000, epsilon=0.00\n",
      "1594: episode 60 done, reward=14.000, epsilon=0.00\n",
      "1604: episode 61 done, reward=10.000, epsilon=0.00\n",
      "1650: episode 62 done, reward=46.000, epsilon=0.00\n",
      "1692: episode 63 done, reward=42.000, epsilon=0.00\n",
      "1740: episode 64 done, reward=48.000, epsilon=0.00\n",
      "1829: episode 65 done, reward=89.000, epsilon=0.00\n",
      "1853: episode 66 done, reward=24.000, epsilon=0.00\n",
      "1898: episode 67 done, reward=45.000, epsilon=0.00\n",
      "1946: episode 68 done, reward=48.000, epsilon=0.00\n",
      "1989: episode 69 done, reward=43.000, epsilon=0.00\n",
      "2037: episode 70 done, reward=48.000, epsilon=0.00\n",
      "2105: episode 71 done, reward=68.000, epsilon=0.00\n",
      "2154: episode 72 done, reward=49.000, epsilon=0.00\n",
      "2299: episode 73 done, reward=145.000, epsilon=0.00\n",
      "2402: episode 74 done, reward=103.000, epsilon=0.00\n",
      "2462: episode 75 done, reward=60.000, epsilon=0.00\n",
      "2523: episode 76 done, reward=61.000, epsilon=0.00\n",
      "2601: episode 77 done, reward=78.000, epsilon=0.00\n",
      "2657: episode 78 done, reward=56.000, epsilon=0.00\n",
      "2748: episode 79 done, reward=91.000, epsilon=0.00\n",
      "2880: episode 80 done, reward=132.000, epsilon=0.00\n",
      "3022: episode 81 done, reward=142.000, epsilon=0.00\n",
      "3130: episode 82 done, reward=108.000, epsilon=0.00\n",
      "3253: episode 83 done, reward=123.000, epsilon=0.00\n",
      "3450: episode 84 done, reward=197.000, epsilon=0.00\n",
      "Congrats!\n"
     ]
    }
   ],
   "source": [
    "step = 0\n",
    "episode = 0\n",
    "solved = False\n",
    "\n",
    "while True:\n",
    "    step += 1\n",
    "    buffer.populate(1)\n",
    "    \n",
    "    for reward, steps in exp_source.pop_rewards_steps(): # information about the ended episodes are saved\n",
    "        episode += 1\n",
    "        print(\"%d: episode %d done, reward=%.3f, epsilon=%.2f\" %(step, episode, reward, selector.epsilon))\n",
    "        solved = reward > 150 # check whether learning is completed\n",
    "        \n",
    "    if solved: \n",
    "        print(\"Congrats!\")\n",
    "        break\n",
    "        \n",
    "    if len(buffer) < 2 * BATCH_SIZE:\n",
    "        continue\n",
    "        \n",
    "    batch = buffer.sample(BATCH_SIZE)\n",
    "    states_v, actions_v, tgt_q_v = unpack_batch(batch, tgt_net.target_model, GAMMA)\n",
    "    optimizer.zero_grad()\n",
    "    q_v = net(states_v)\n",
    "    q_v = q_v.gather(1, actions_v.unsqueeze(-1)).squeeze(-1) # pick q(s,a) for only the a taken\n",
    "    loss_v = F.mse_loss(q_v, tgt_q_v)\n",
    "    loss_v.backward()\n",
    "    optimizer.step()\n",
    "    selector.epsilon *= EPS_DECAY # decay\n",
    "    \n",
    "    if step % TGT_NET_SYNC == 0:\n",
    "        tgt_net.sync() # sync nets\n",
    "        "
   ]
  },
  {
   "cell_type": "code",
   "execution_count": null,
   "id": "093a3ed9-3759-4083-a686-4350be5bac66",
   "metadata": {},
   "outputs": [],
   "source": []
  }
 ],
 "metadata": {
  "kernelspec": {
   "display_name": "Python [conda env:DRLH]",
   "language": "python",
   "name": "conda-env-DRLH-py"
  },
  "language_info": {
   "codemirror_mode": {
    "name": "ipython",
    "version": 3
   },
   "file_extension": ".py",
   "mimetype": "text/x-python",
   "name": "python",
   "nbconvert_exporter": "python",
   "pygments_lexer": "ipython3",
   "version": "3.7.0"
  }
 },
 "nbformat": 4,
 "nbformat_minor": 5
}
